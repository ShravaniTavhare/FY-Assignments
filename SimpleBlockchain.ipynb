{
 "cells": [
  {
   "cell_type": "code",
   "execution_count": null,
   "id": "cb573d79-d8c8-4b46-9e9c-86300de4aa22",
   "metadata": {},
   "outputs": [],
   "source": []
  }
 ],
 "metadata": {
  "kernelspec": {
   "display_name": "",
   "name": ""
  },
  "language_info": {
   "name": ""
  }
 },
 "nbformat": 4,
 "nbformat_minor": 5
}
